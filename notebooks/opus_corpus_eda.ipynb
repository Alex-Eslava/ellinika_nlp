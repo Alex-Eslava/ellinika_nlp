{
 "cells": [
  {
   "cell_type": "markdown",
   "id": "3b97c0d1",
   "metadata": {},
   "source": [
    "Checking OPUS data pairs quality"
   ]
  },
  {
   "cell_type": "code",
   "execution_count": 33,
   "id": "1b86ab20",
   "metadata": {},
   "outputs": [],
   "source": [
    "import pandas as pd\n",
    "\n",
    "dataset = pd.read_csv('../data/interim/dataset.csv',\n",
    "                      sep=';', \n",
    "                      on_bad_lines='skip', \n",
    "                      index_col = None, \n",
    "                      header = None,\n",
    "                      names = ['EL','CA'])"
   ]
  },
  {
   "cell_type": "code",
   "execution_count": 34,
   "id": "fd9336bc",
   "metadata": {},
   "outputs": [
    {
     "data": {
      "text/html": [
       "<div>\n",
       "<style scoped>\n",
       "    .dataframe tbody tr th:only-of-type {\n",
       "        vertical-align: middle;\n",
       "    }\n",
       "\n",
       "    .dataframe tbody tr th {\n",
       "        vertical-align: top;\n",
       "    }\n",
       "\n",
       "    .dataframe thead th {\n",
       "        text-align: right;\n",
       "    }\n",
       "</style>\n",
       "<table border=\"1\" class=\"dataframe\">\n",
       "  <thead>\n",
       "    <tr style=\"text-align: right;\">\n",
       "      <th></th>\n",
       "      <th>EL</th>\n",
       "      <th>CA</th>\n",
       "    </tr>\n",
       "  </thead>\n",
       "  <tbody>\n",
       "    <tr>\n",
       "      <th>0</th>\n",
       "      <td>Δεν χρειάζεται να δημιουργηθεί ή να καταστραφεί .</td>\n",
       "      <td>No és creada ni creadora .</td>\n",
       "    </tr>\n",
       "    <tr>\n",
       "      <th>1</th>\n",
       "      <td>Και ο βασιλιάς είπε : « Φέρτε μου ένα μαχαίρι » .</td>\n",
       "      <td>« Lord , give us a sign » ( en anglès ) .</td>\n",
       "    </tr>\n",
       "    <tr>\n",
       "      <th>2</th>\n",
       "      <td>Για τα παιδιά μας και για σας , Σαμάνθα .</td>\n",
       "      <td>Per als nostres fills i per a tu , Samantha .</td>\n",
       "    </tr>\n",
       "    <tr>\n",
       "      <th>3</th>\n",
       "      <td>Among the Dead Cities  ( = Μεταξύ των νεκρών ...</td>\n",
       "      <td>Among the Dead Cities ( en anglès ) .</td>\n",
       "    </tr>\n",
       "    <tr>\n",
       "      <th>4</th>\n",
       "      <td>Σου προτείνω νέα στρατηγική , R2 .</td>\n",
       "      <td>Et suggereixo una nova estratègia , R2 .</td>\n",
       "    </tr>\n",
       "    <tr>\n",
       "      <th>...</th>\n",
       "      <td>...</td>\n",
       "      <td>...</td>\n",
       "    </tr>\n",
       "    <tr>\n",
       "      <th>466467</th>\n",
       "      <td>Υπήρχαν σκέψεις για την ενοποίηση του προγράμμ...</td>\n",
       "      <td>La població va acudir a la crida de la disposi...</td>\n",
       "    </tr>\n",
       "    <tr>\n",
       "      <th>466468</th>\n",
       "      <td>Περιελάμβανε το νοτιοανατολικό τμήμα της Ηπείρ...</td>\n",
       "      <td>Està situada entre els Alts del Golan a l 'est...</td>\n",
       "    </tr>\n",
       "    <tr>\n",
       "      <th>466469</th>\n",
       "      <td>Αποτέλεσμα ήταν ο συνολικός πληθυσμός να μειωθ...</td>\n",
       "      <td>Tot i que la població va disminuir en general ...</td>\n",
       "    </tr>\n",
       "    <tr>\n",
       "      <th>466470</th>\n",
       "      <td>Στην εκδήλωση απονομής των βραβείων απονέμοντα...</td>\n",
       "      <td>Altres premis es donen per al millor equip ( C...</td>\n",
       "    </tr>\n",
       "    <tr>\n",
       "      <th>466471</th>\n",
       "      <td>Η οδοντοστοιχεία του αποτελείται από 32 δόντια...</td>\n",
       "      <td>Els lèmurs són animals heterodonts ( tenen dif...</td>\n",
       "    </tr>\n",
       "  </tbody>\n",
       "</table>\n",
       "<p>466472 rows × 2 columns</p>\n",
       "</div>"
      ],
      "text/plain": [
       "                                                       EL  \\\n",
       "0       Δεν χρειάζεται να δημιουργηθεί ή να καταστραφεί .   \n",
       "1       Και ο βασιλιάς είπε : « Φέρτε μου ένα μαχαίρι » .   \n",
       "2               Για τα παιδιά μας και για σας , Σαμάνθα .   \n",
       "3        Among the Dead Cities  ( = Μεταξύ των νεκρών ...   \n",
       "4                      Σου προτείνω νέα στρατηγική , R2 .   \n",
       "...                                                   ...   \n",
       "466467  Υπήρχαν σκέψεις για την ενοποίηση του προγράμμ...   \n",
       "466468  Περιελάμβανε το νοτιοανατολικό τμήμα της Ηπείρ...   \n",
       "466469  Αποτέλεσμα ήταν ο συνολικός πληθυσμός να μειωθ...   \n",
       "466470  Στην εκδήλωση απονομής των βραβείων απονέμοντα...   \n",
       "466471  Η οδοντοστοιχεία του αποτελείται από 32 δόντια...   \n",
       "\n",
       "                                                       CA  \n",
       "0                              No és creada ni creadora .  \n",
       "1               « Lord , give us a sign » ( en anglès ) .  \n",
       "2           Per als nostres fills i per a tu , Samantha .  \n",
       "3                   Among the Dead Cities ( en anglès ) .  \n",
       "4                Et suggereixo una nova estratègia , R2 .  \n",
       "...                                                   ...  \n",
       "466467  La població va acudir a la crida de la disposi...  \n",
       "466468  Està situada entre els Alts del Golan a l 'est...  \n",
       "466469  Tot i que la població va disminuir en general ...  \n",
       "466470  Altres premis es donen per al millor equip ( C...  \n",
       "466471  Els lèmurs són animals heterodonts ( tenen dif...  \n",
       "\n",
       "[466472 rows x 2 columns]"
      ]
     },
     "execution_count": 34,
     "metadata": {},
     "output_type": "execute_result"
    }
   ],
   "source": [
    "dataset"
   ]
  },
  {
   "cell_type": "code",
   "execution_count": 35,
   "id": "f6254d5c",
   "metadata": {},
   "outputs": [],
   "source": [
    "dataset = dataset.dropna()\n",
    "# Dropping rows that contain english text\n",
    "dataset = dataset.loc[~dataset['CA'].str.contains('anglès')]\n",
    "dataset = dataset.loc[~dataset['CA'].str.contains('tfrac')]\n",
    "dataset = dataset.loc[~dataset['CA'].str.contains('displaystyle')]"
   ]
  },
  {
   "cell_type": "code",
   "execution_count": 37,
   "id": "27a4e9b7",
   "metadata": {},
   "outputs": [
    {
     "name": "stdout",
     "output_type": "stream",
     "text": [
      "Αυτός ήταν στην Ελλάδα , μοιράστηκε χρυσό .\n",
      "Fou a Grècia , va dividir d 'or .\n"
     ]
    }
   ],
   "source": [
    "print(dataset['EL'].iloc[44])\n",
    "print(dataset['CA'].iloc[44])"
   ]
  },
  {
   "cell_type": "code",
   "execution_count": 28,
   "id": "3da025f8",
   "metadata": {},
   "outputs": [],
   "source": [
    "dataset = dataset.loc[dataset['CA'].str.contains('disp')]"
   ]
  },
  {
   "cell_type": "code",
   "execution_count": null,
   "id": "87b9c3a8",
   "metadata": {},
   "outputs": [],
   "source": [
    "output_folder_path = '../data/interim/opus_corpus/'\n",
    "train, test = train_test_split(dataset, test_size = 0.2, random_state=42)\n",
    "train, dev = train_test_split(train, test_size = 0.25, random_state=42) # 0.25 * 0.8 = 0.2\n",
    "\n",
    "train.to_csv(output_folder_path+'train_el_ca.tsv', sep = '\\t', index=False)\n",
    "test.to_csv(output_folder_path+'test_'+ filename, sep = '\\t', index=False)\n",
    "dev.to_csv(output_folder_path+'dev_'+ filename, sep = '\\t', index=False)"
   ]
  }
 ],
 "metadata": {
  "kernelspec": {
   "display_name": "Python 3",
   "language": "python",
   "name": "python3"
  },
  "language_info": {
   "codemirror_mode": {
    "name": "ipython",
    "version": 3
   },
   "file_extension": ".py",
   "mimetype": "text/x-python",
   "name": "python",
   "nbconvert_exporter": "python",
   "pygments_lexer": "ipython3",
   "version": "3.7.6"
  }
 },
 "nbformat": 4,
 "nbformat_minor": 5
}
